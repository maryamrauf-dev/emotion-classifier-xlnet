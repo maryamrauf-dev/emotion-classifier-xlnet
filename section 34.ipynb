{
 "cells": [
  {
   "cell_type": "code",
   "execution_count": 56,
   "id": "113468bb-6a28-4952-98af-fc2e20a0b1e3",
   "metadata": {},
   "outputs": [],
   "source": [
    "import pandas as pd\n",
    "import numpy as np\n",
    "import re\n",
    "from cleantext import clean\n",
    "import torch\n",
    "from transformers import TrainingArguments, Trainer, pipeline\n",
    "from transformers import XLNetTokenizer, XLNetForSequenceClassification\n",
    "import datasets\n",
    "from sklearn.model_selection import train_test_split\n",
    "from sklearn.preprocessing import LabelEncoder\n",
    "import random\n",
    "import evaluate"
   ]
  },
  {
   "cell_type": "code",
   "execution_count": 57,
   "id": "23e4b7e9-b807-4da9-abbe-927b5f002257",
   "metadata": {},
   "outputs": [],
   "source": [
    "test_data=pd.read_csv(\"./emotions_data/emotion-labels-test.csv\")\n",
    "train_data=pd.read_csv(\"./emotions_data/emotion-labels-train.csv\")\n",
    "val_data=pd.read_csv(\"./emotions_data/emotion-labels-val.csv\")"
   ]
  },
  {
   "cell_type": "code",
   "execution_count": 58,
   "id": "a673227d-4e09-4ad7-ae77-82563c7ed960",
   "metadata": {},
   "outputs": [],
   "source": [
    "data=pd.concat([test_data, train_data, val_data])\n"
   ]
  },
  {
   "cell_type": "code",
   "execution_count": 59,
   "id": "f7705f0c-b27d-4a22-826c-53b9430dc5fc",
   "metadata": {},
   "outputs": [
    {
     "data": {
      "text/html": [
       "<div>\n",
       "<style scoped>\n",
       "    .dataframe tbody tr th:only-of-type {\n",
       "        vertical-align: middle;\n",
       "    }\n",
       "\n",
       "    .dataframe tbody tr th {\n",
       "        vertical-align: top;\n",
       "    }\n",
       "\n",
       "    .dataframe thead th {\n",
       "        text-align: right;\n",
       "    }\n",
       "</style>\n",
       "<table border=\"1\" class=\"dataframe\">\n",
       "  <thead>\n",
       "    <tr style=\"text-align: right;\">\n",
       "      <th></th>\n",
       "      <th>text</th>\n",
       "      <th>label</th>\n",
       "    </tr>\n",
       "  </thead>\n",
       "  <tbody>\n",
       "    <tr>\n",
       "      <th>0</th>\n",
       "      <td>You must be knowing #blithe means (adj.)  Happ...</td>\n",
       "      <td>joy</td>\n",
       "    </tr>\n",
       "    <tr>\n",
       "      <th>1</th>\n",
       "      <td>Old saying 'A #smile shared is one gained for ...</td>\n",
       "      <td>joy</td>\n",
       "    </tr>\n",
       "    <tr>\n",
       "      <th>2</th>\n",
       "      <td>Bridget Jones' Baby was bloody hilarious 😅 #Br...</td>\n",
       "      <td>joy</td>\n",
       "    </tr>\n",
       "    <tr>\n",
       "      <th>3</th>\n",
       "      <td>@Elaminova sparkling water makes your life spa...</td>\n",
       "      <td>joy</td>\n",
       "    </tr>\n",
       "    <tr>\n",
       "      <th>4</th>\n",
       "      <td>I'm tired of everybody telling me to chill out...</td>\n",
       "      <td>joy</td>\n",
       "    </tr>\n",
       "  </tbody>\n",
       "</table>\n",
       "</div>"
      ],
      "text/plain": [
       "                                                text label\n",
       "0  You must be knowing #blithe means (adj.)  Happ...   joy\n",
       "1  Old saying 'A #smile shared is one gained for ...   joy\n",
       "2  Bridget Jones' Baby was bloody hilarious 😅 #Br...   joy\n",
       "3  @Elaminova sparkling water makes your life spa...   joy\n",
       "4  I'm tired of everybody telling me to chill out...   joy"
      ]
     },
     "execution_count": 59,
     "metadata": {},
     "output_type": "execute_result"
    }
   ],
   "source": [
    "data.head()"
   ]
  },
  {
   "cell_type": "code",
   "execution_count": 60,
   "id": "e1779851-1221-4c79-8752-daf64fc1e343",
   "metadata": {},
   "outputs": [],
   "source": [
    "data[\"clean-text\"]=data[\"text\"].apply(lambda x: clean(x, no_emoji=True))"
   ]
  },
  {
   "cell_type": "code",
   "execution_count": 61,
   "id": "40a77028-4e9e-406a-8a1e-ea6f1448c99c",
   "metadata": {},
   "outputs": [],
   "source": [
    "data[\"clean-text\"]=data[\"clean-text\"].apply(lambda x: re.sub('[^\\w\\s]',' ',x))"
   ]
  },
  {
   "cell_type": "code",
   "execution_count": 62,
   "id": "1283a5e8-44bc-438b-bba7-8198b2735803",
   "metadata": {},
   "outputs": [
    {
     "data": {
      "text/plain": [
       "<Axes: xlabel='label'>"
      ]
     },
     "execution_count": 62,
     "metadata": {},
     "output_type": "execute_result"
    },
    {
     "data": {
      "image/png": "[encoded data removed]",
      "text/plain": [
       "<Figure size 640x480 with 1 Axes>"
      ]
     },
     "metadata": {},
     "output_type": "display_data"
    }
   ],
   "source": [
    "data[\"label\"].value_counts().plot(kind=\"bar\")"
   ]
  },
  {
   "cell_type": "code",
   "execution_count": 63,
   "id": "3a5a7d35-450d-48c4-a5c4-7fddb5723a28",
   "metadata": {},
   "outputs": [],
   "source": [
    "min_label=data.groupby(\"label\").size().min()\n",
    "data=data.groupby(\"label\").apply(lambda x: x.sample(min_label)).reset_index(drop=True)"
   ]
  },
  {
   "cell_type": "code",
   "execution_count": 64,
   "id": "3f66a38b-d67b-460d-82ba-21f2be98f7df",
   "metadata": {},
   "outputs": [
    {
     "data": {
      "text/plain": [
       "<Axes: xlabel='label'>"
      ]
     },
     "execution_count": 64,
     "metadata": {},
     "output_type": "execute_result"
    },
    {
     "data": {
      "image/png": "[encoded data removed]",
      "text/plain": [
       "<Figure size 640x480 with 1 Axes>"
      ]
     },
     "metadata": {},
     "output_type": "display_data"
    }
   ],
   "source": [
    "data[\"label\"].value_counts().plot(kind=\"bar\")"
   ]
  },
  {
   "cell_type": "code",
   "execution_count": 65,
   "id": "85e50ce0-f165-4310-a0be-cfa26290fbb3",
   "metadata": {},
   "outputs": [],
   "source": [
    "encode=LabelEncoder()"
   ]
  },
  {
   "cell_type": "code",
   "execution_count": 66,
   "id": "ae78ab43-b98a-4eb2-9dd8-633847231e9d",
   "metadata": {},
   "outputs": [],
   "source": [
    "data[\"label-int\"]=encode.fit_transform(data[\"label\"])"
   ]
  },
  {
   "cell_type": "code",
   "execution_count": 67,
   "id": "8a72c6a5-2ac5-4d3e-8482-27cf3e5abfbf",
   "metadata": {},
   "outputs": [
    {
     "data": {
      "text/html": [
       "<div>\n",
       "<style scoped>\n",
       "    .dataframe tbody tr th:only-of-type {\n",
       "        vertical-align: middle;\n",
       "    }\n",
       "\n",
       "    .dataframe tbody tr th {\n",
       "        vertical-align: top;\n",
       "    }\n",
       "\n",
       "    .dataframe thead th {\n",
       "        text-align: right;\n",
       "    }\n",
       "</style>\n",
       "<table border=\"1\" class=\"dataframe\">\n",
       "  <thead>\n",
       "    <tr style=\"text-align: right;\">\n",
       "      <th></th>\n",
       "      <th>text</th>\n",
       "      <th>label</th>\n",
       "      <th>clean-text</th>\n",
       "      <th>label-int</th>\n",
       "    </tr>\n",
       "  </thead>\n",
       "  <tbody>\n",
       "    <tr>\n",
       "      <th>0</th>\n",
       "      <td>@BonesARP 'That is a disappointment.'\\n\\nHe fa...</td>\n",
       "      <td>anger</td>\n",
       "      <td>bonesarp  that is a disappointment  \\nhe fake...</td>\n",
       "      <td>0</td>\n",
       "    </tr>\n",
       "    <tr>\n",
       "      <th>1</th>\n",
       "      <td>#Forgiveness might make us look #weak, but the...</td>\n",
       "      <td>anger</td>\n",
       "      <td>forgivenessmight make us look  weak  but the ...</td>\n",
       "      <td>0</td>\n",
       "    </tr>\n",
       "    <tr>\n",
       "      <th>2</th>\n",
       "      <td>Oh daaaaaaamn @SophiaBush! #getitgirl #girlpow...</td>\n",
       "      <td>anger</td>\n",
       "      <td>oh daaaaaaamn  sophiabush   getitgirl  girlpow...</td>\n",
       "      <td>0</td>\n",
       "    </tr>\n",
       "    <tr>\n",
       "      <th>3</th>\n",
       "      <td>.@Travelanswerman: B assured there is plenty o...</td>\n",
       "      <td>anger</td>\n",
       "      <td>travelanswerman  b assured there is plenty o...</td>\n",
       "      <td>0</td>\n",
       "    </tr>\n",
       "    <tr>\n",
       "      <th>4</th>\n",
       "      <td>@CozanGaming that's what lisa asked before she...</td>\n",
       "      <td>anger</td>\n",
       "      <td>cozangaming that s what lisa asked before she...</td>\n",
       "      <td>0</td>\n",
       "    </tr>\n",
       "  </tbody>\n",
       "</table>\n",
       "</div>"
      ],
      "text/plain": [
       "                                                text  label   \n",
       "0  @BonesARP 'That is a disappointment.'\\n\\nHe fa...  anger  \\\n",
       "1  #Forgiveness might make us look #weak, but the...  anger   \n",
       "2  Oh daaaaaaamn @SophiaBush! #getitgirl #girlpow...  anger   \n",
       "3  .@Travelanswerman: B assured there is plenty o...  anger   \n",
       "4  @CozanGaming that's what lisa asked before she...  anger   \n",
       "\n",
       "                                          clean-text  label-int  \n",
       "0   bonesarp  that is a disappointment  \\nhe fake...          0  \n",
       "1   forgivenessmight make us look  weak  but the ...          0  \n",
       "2  oh daaaaaaamn  sophiabush   getitgirl  girlpow...          0  \n",
       "3    travelanswerman  b assured there is plenty o...          0  \n",
       "4   cozangaming that s what lisa asked before she...          0  "
      ]
     },
     "execution_count": 67,
     "metadata": {},
     "output_type": "execute_result"
    }
   ],
   "source": [
    "data.head()"
   ]
  },
  {
   "cell_type": "code",
   "execution_count": 68,
   "id": "063df0d1-d07c-4927-8e1c-9f65fdf015b1",
   "metadata": {},
   "outputs": [],
   "source": [
    "train_data,test_data=train_test_split(data, test_size=0.2, random_state=42)\n",
    "train_data, val_data=train_test_split(train_data, test_size=0.1, random_state=42)\n"
   ]
  },
  {
   "cell_type": "code",
   "execution_count": 69,
   "id": "eaadee13-db0f-4a0c-86bd-e3cccd610b4a",
   "metadata": {},
   "outputs": [
    {
     "name": "stdout",
     "output_type": "stream",
     "text": [
      "4414\n",
      "1227\n",
      "491\n"
     ]
    }
   ],
   "source": [
    "print(len(train_data)) \n",
    "print(len(test_data))\n",
    "print(len(val_data))"
   ]
  },
  {
   "cell_type": "code",
   "execution_count": 70,
   "id": "6457f9e1-901e-454a-b63a-477ec4625aa8",
   "metadata": {},
   "outputs": [],
   "source": [
    "train_df=pd.DataFrame({\"text\" : train_data[\"clean-text\"], \"label\" : train_data[\"label-int\"]})\n",
    "test_df=pd.DataFrame({\"text\" : test_data[\"clean-text\"], \"label\" : test_data[\"label-int\"]})\n",
    "val_df=pd.DataFrame({\"text\" : val_data[\"clean-text\"], \"label\" : val_data[\"label-int\"]})"
   ]
  },
  {
   "cell_type": "code",
   "execution_count": 71,
   "id": "e0dbb4dc-b02a-4332-9f63-0b60e4c13f83",
   "metadata": {},
   "outputs": [],
   "source": [
    "from datasets import Dataset, DatasetDict"
   ]
  },
  {
   "cell_type": "code",
   "execution_count": 72,
   "id": "284204a4-69bf-485b-bd7c-be9f9b8ae0fd",
   "metadata": {},
   "outputs": [],
   "source": [
    "train_dataset=Dataset.from_dict(train_df)\n",
    "test_dataset=Dataset.from_dict(test_df)\n",
    "val_dataset=Dataset.from_dict(val_df)"
   ]
  },
  {
   "cell_type": "code",
   "execution_count": 73,
   "id": "f00916ec-3288-441e-82f7-b8eff26800c1",
   "metadata": {},
   "outputs": [
    {
     "data": {
      "text/plain": [
       "DatasetDict({\n",
       "    train: Dataset({\n",
       "        features: ['text', 'label'],\n",
       "        num_rows: 4414\n",
       "    })\n",
       "    test: Dataset({\n",
       "        features: ['text', 'label'],\n",
       "        num_rows: 1227\n",
       "    })\n",
       "    validation: Dataset({\n",
       "        features: ['text', 'label'],\n",
       "        num_rows: 491\n",
       "    })\n",
       "})"
      ]
     },
     "execution_count": 73,
     "metadata": {},
     "output_type": "execute_result"
    }
   ],
   "source": [
    "final_dict=DatasetDict({'train': train_dataset,'test' : test_dataset, 'validation': val_dataset})\n",
    "final_dict"
   ]
  },
  {
   "cell_type": "code",
   "execution_count": 74,
   "id": "6b319997-b67c-436d-bee8-f6ae5ef6bb5b",
   "metadata": {},
   "outputs": [],
   "source": [
    "tokenizer=XLNetTokenizer.from_pretrained(\"xlnet-base-cased\")\n"
   ]
  },
  {
   "cell_type": "code",
   "execution_count": 75,
   "id": "32ef8d08-fb51-43ed-9132-4370fe608391",
   "metadata": {},
   "outputs": [],
   "source": [
    "def tokenization_function(example):\n",
    "    return tokenizer(\n",
    "        example[\"text\"], padding='max_length',truncation=True, max_length=128)\n",
    "    "
   ]
  },
  {
   "cell_type": "code",
   "execution_count": 76,
   "id": "f713a6be-71db-4f5f-995e-f8e6ee26582a",
   "metadata": {},
   "outputs": [
    {
     "data": {
      "application/vnd.jupyter.widget-view+json": {
       "model_id": "2c2d7a43fc714b5e8303a1a62f89a336",
       "version_major": 2,
       "version_minor": 0
      },
      "text/plain": [
       "Map:   0%|          | 0/4414 [00:00<?, ? examples/s]"
      ]
     },
     "metadata": {},
     "output_type": "display_data"
    },
    {
     "data": {
      "application/vnd.jupyter.widget-view+json": {
       "model_id": "571e6395e3794aa5954124c3fb8d578a",
       "version_major": 2,
       "version_minor": 0
      },
      "text/plain": [
       "Map:   0%|          | 0/1227 [00:00<?, ? examples/s]"
      ]
     },
     "metadata": {},
     "output_type": "display_data"
    },
    {
     "data": {
      "application/vnd.jupyter.widget-view+json": {
       "model_id": "96f843f9f3b74b54a0e18fc217e24059",
       "version_major": 2,
       "version_minor": 0
      },
      "text/plain": [
       "Map:   0%|          | 0/491 [00:00<?, ? examples/s]"
      ]
     },
     "metadata": {},
     "output_type": "display_data"
    }
   ],
   "source": [
    "tokenizer_set=final_dict.map(tokenization_function, batched=True)"
   ]
  },
  {
   "cell_type": "code",
   "execution_count": 77,
   "id": "45000051-b992-41a6-af69-58bd1bd4f1a7",
   "metadata": {},
   "outputs": [
    {
     "data": {
      "text/plain": [
       "' kelly_welles they were brilliant weren t they  made me feel v dull not having one  and why no tattoo emoji  this ll have to do    x'"
      ]
     },
     "execution_count": 77,
     "metadata": {},
     "output_type": "execute_result"
    }
   ],
   "source": [
    "sample_text=tokenizer_set[\"train\"][0][\"text\"]\n",
    "sample_text"
   ]
  },
  {
   "cell_type": "code",
   "execution_count": 78,
   "id": "e63b5417-a897-48ad-99da-b12429937a85",
   "metadata": {},
   "outputs": [
    {
     "name": "stdout",
     "output_type": "stream",
     "text": [
      "[5, 5, 5, 5, 5, 5, 5, 5, 5, 5, 5, 5, 5, 5, 5, 5, 5, 5, 5, 5, 5, 5, 5, 5, 5, 5, 5, 5, 5, 5, 5, 5, 5, 5, 5, 5, 5, 5, 5, 5, 5, 5, 5, 5, 5, 5, 5, 5, 5, 5, 5, 5, 5, 5, 5, 5, 5, 5, 5, 5, 5, 5, 5, 5, 5, 5, 5, 5, 5, 5, 5, 5, 5, 5, 5, 5, 5, 5, 5, 5, 5, 5, 5, 5, 5, 5, 5, 5, 5, 5, 5, 17, 7617, 111, 2732, 2297, 202, 63, 55, 7142, 4363, 17, 46, 63, 140, 110, 567, 2721, 12692, 50, 491, 65, 21, 611, 116, 10784, 17, 16465, 2030, 52, 17, 215, 47, 22, 112, 3512, 4, 3]\n",
      "[3, 3, 3, 3, 3, 3, 3, 3, 3, 3, 3, 3, 3, 3, 3, 3, 3, 3, 3, 3, 3, 3, 3, 3, 3, 3, 3, 3, 3, 3, 3, 3, 3, 3, 3, 3, 3, 3, 3, 3, 3, 3, 3, 3, 3, 3, 3, 3, 3, 3, 3, 3, 3, 3, 3, 3, 3, 3, 3, 3, 3, 3, 3, 3, 3, 3, 3, 3, 3, 3, 3, 3, 3, 3, 3, 3, 3, 3, 3, 3, 3, 3, 3, 3, 3, 3, 3, 3, 3, 3, 3, 0, 0, 0, 0, 0, 0, 0, 0, 0, 0, 0, 0, 0, 0, 0, 0, 0, 0, 0, 0, 0, 0, 0, 0, 0, 0, 0, 0, 0, 0, 0, 0, 0, 0, 0, 0, 2]\n",
      "[0, 0, 0, 0, 0, 0, 0, 0, 0, 0, 0, 0, 0, 0, 0, 0, 0, 0, 0, 0, 0, 0, 0, 0, 0, 0, 0, 0, 0, 0, 0, 0, 0, 0, 0, 0, 0, 0, 0, 0, 0, 0, 0, 0, 0, 0, 0, 0, 0, 0, 0, 0, 0, 0, 0, 0, 0, 0, 0, 0, 0, 0, 0, 0, 0, 0, 0, 0, 0, 0, 0, 0, 0, 0, 0, 0, 0, 0, 0, 0, 0, 0, 0, 0, 0, 0, 0, 0, 0, 0, 0, 1, 1, 1, 1, 1, 1, 1, 1, 1, 1, 1, 1, 1, 1, 1, 1, 1, 1, 1, 1, 1, 1, 1, 1, 1, 1, 1, 1, 1, 1, 1, 1, 1, 1, 1, 1, 1]\n"
     ]
    }
   ],
   "source": [
    "print(tokenizer_set[\"train\"][0][\"input_ids\"])\n",
    "print(tokenizer_set[\"train\"][0][\"token_type_ids\"])\n",
    "print(tokenizer_set[\"train\"][0][\"attention_mask\"])"
   ]
  },
  {
   "cell_type": "code",
   "execution_count": 79,
   "id": "d5d1ba87-72d7-448c-9b40-2a17fd96e86b",
   "metadata": {},
   "outputs": [],
   "source": [
    "small_train_dataset=tokenizer_set[\"train\"].shuffle(seed=42).select(range(100))\n",
    "small_eval_dataset=tokenizer_set[\"test\"].shuffle(seed=42).select(range(100))"
   ]
  },
  {
   "cell_type": "code",
   "execution_count": 80,
   "id": "cd227cde-1cd7-4a47-b30b-91c1c110ffc2",
   "metadata": {},
   "outputs": [
    {
     "name": "stdout",
     "output_type": "stream",
     "text": [
      "Dataset({\n",
      "    features: ['text', 'label', 'input_ids', 'token_type_ids', 'attention_mask'],\n",
      "    num_rows: 100\n",
      "})\n",
      "Dataset({\n",
      "    features: ['text', 'label', 'input_ids', 'token_type_ids', 'attention_mask'],\n",
      "    num_rows: 100\n",
      "})\n"
     ]
    }
   ],
   "source": [
    "print(small_train_dataset)\n",
    "print(small_eval_dataset)"
   ]
  },
  {
   "cell_type": "code",
   "execution_count": 81,
   "id": "334bd67c-fd00-4ce5-8ec5-e62169b00470",
   "metadata": {},
   "outputs": [
    {
     "name": "stderr",
     "output_type": "stream",
     "text": [
      "Some weights of XLNetForSequenceClassification were not initialized from the model checkpoint at xlnet-base-cased and are newly initialized: ['logits_proj.bias', 'logits_proj.weight', 'sequence_summary.summary.bias', 'sequence_summary.summary.weight']\n",
      "You should probably TRAIN this model on a down-stream task to be able to use it for predictions and inference.\n"
     ]
    }
   ],
   "source": [
    "from transformers import XLNetForSequenceClassification\n",
    "model=XLNetForSequenceClassification.from_pretrained(\"xlnet-base-cased\",\n",
    "                                                        num_labels=4,\n",
    "                                                        id2label={0:\"fear\",1:\"anger\",\n",
    "                                                                  2:\"joy\",3:\"sadness\"},\n",
    "                                                    label2id={\"fear\": 0, \"anger\": 1, \"joy\": 2, \"sadness\": 3})\n"
   ]
  },
  {
   "cell_type": "code",
   "execution_count": 82,
   "id": "bb87ea79-0804-4699-acfb-cdaca7d8fb98",
   "metadata": {},
   "outputs": [],
   "source": [
    "import evaluate\n",
    "metric=evaluate.load(\"accuracy\")"
   ]
  },
  {
   "cell_type": "code",
   "execution_count": 83,
   "id": "72120972-b5bf-47ce-a037-6a54f8033801",
   "metadata": {},
   "outputs": [],
   "source": [
    "import numpy as np\n",
    "def compute_pred(eval_pred):\n",
    "    logits,labels=eval_pred\n",
    "    predictions=np.argmax(logits, axis=-1)\n",
    "    return metric.compute(predictions=predictions, references=labels)"
   ]
  },
  {
   "cell_type": "code",
   "execution_count": 84,
   "id": "7b9434e7-4eab-4fa3-92ad-afa65fb936f8",
   "metadata": {},
   "outputs": [
    {
     "name": "stderr",
     "output_type": "stream",
     "text": [
      "C:\\Users\\Maryam Rauf\\anaconda3\\envs\\llms_course_env\\Lib\\site-packages\\transformers\\training_args.py:1575: FutureWarning: `evaluation_strategy` is deprecated and will be removed in version 4.46 of 🤗 Transformers. Use `eval_strategy` instead\n",
      "  warnings.warn(\n"
     ]
    }
   ],
   "source": [
    "from transformers import TrainingArguments\n",
    "trainee=TrainingArguments(output_dir=\"./fresh_xlnet_base_model\",\n",
    "                          evaluation_strategy=\"epoch\",\n",
    "                          num_train_epochs=3)"
   ]
  },
  {
   "cell_type": "code",
   "execution_count": 85,
   "id": "fe255150-bb32-49c4-b525-7f8c84230d62",
   "metadata": {},
   "outputs": [],
   "source": [
    "from transformers import Trainer\n",
    "trainer=Trainer(\n",
    "    model=model,\n",
    "    args=trainee,\n",
    "    train_dataset=small_train_dataset,\n",
    "    eval_dataset=small_eval_dataset,\n",
    "    compute_metrics=compute_pred)"
   ]
  },
  {
   "cell_type": "code",
   "execution_count": 86,
   "id": "e7dc5f0c-a547-42de-8df7-6fd7e36474d6",
   "metadata": {},
   "outputs": [
    {
     "data": {
      "text/html": [
       "\n",
       "    <div>\n",
       "      \n",
       "      <progress value='39' max='39' style='width:300px; height:20px; vertical-align: middle;'></progress>\n",
       "      [39/39 15:45, Epoch 3/3]\n",
       "    </div>\n",
       "    <table border=\"1\" class=\"dataframe\">\n",
       "  <thead>\n",
       " <tr style=\"text-align: left;\">\n",
       "      <th>Epoch</th>\n",
       "      <th>Training Loss</th>\n",
       "      <th>Validation Loss</th>\n",
       "      <th>Accuracy</th>\n",
       "    </tr>\n",
       "  </thead>\n",
       "  <tbody>\n",
       "    <tr>\n",
       "      <td>1</td>\n",
       "      <td>No log</td>\n",
       "      <td>1.522520</td>\n",
       "      <td>0.190000</td>\n",
       "    </tr>\n",
       "    <tr>\n",
       "      <td>2</td>\n",
       "      <td>No log</td>\n",
       "      <td>1.429322</td>\n",
       "      <td>0.190000</td>\n",
       "    </tr>\n",
       "    <tr>\n",
       "      <td>3</td>\n",
       "      <td>No log</td>\n",
       "      <td>1.428374</td>\n",
       "      <td>0.190000</td>\n",
       "    </tr>\n",
       "  </tbody>\n",
       "</table><p>"
      ],
      "text/plain": [
       "<IPython.core.display.HTML object>"
      ]
     },
     "metadata": {},
     "output_type": "display_data"
    },
    {
     "data": {
      "text/plain": [
       "TrainOutput(global_step=39, training_loss=1.419647705860627, metrics={'train_runtime': 966.7787, 'train_samples_per_second': 0.31, 'train_steps_per_second': 0.04, 'total_flos': 21366375321600.0, 'train_loss': 1.419647705860627, 'epoch': 3.0})"
      ]
     },
     "execution_count": 86,
     "metadata": {},
     "output_type": "execute_result"
    }
   ],
   "source": [
    "trainer.train()"
   ]
  },
  {
   "cell_type": "code",
   "execution_count": 87,
   "id": "d0859cfd-d6c2-4995-8a12-e5ad0d71d388",
   "metadata": {},
   "outputs": [
    {
     "data": {
      "text/html": [
       "\n",
       "    <div>\n",
       "      \n",
       "      <progress value='13' max='13' style='width:300px; height:20px; vertical-align: middle;'></progress>\n",
       "      [13/13 01:08]\n",
       "    </div>\n",
       "    "
      ],
      "text/plain": [
       "<IPython.core.display.HTML object>"
      ]
     },
     "metadata": {},
     "output_type": "display_data"
    },
    {
     "data": {
      "text/plain": [
       "{'eval_loss': 1.4283742904663086,\n",
       " 'eval_accuracy': 0.19,\n",
       " 'eval_runtime': 75.7486,\n",
       " 'eval_samples_per_second': 1.32,\n",
       " 'eval_steps_per_second': 0.172,\n",
       " 'epoch': 3.0}"
      ]
     },
     "execution_count": 87,
     "metadata": {},
     "output_type": "execute_result"
    }
   ],
   "source": [
    "trainer.evaluate()"
   ]
  },
  {
   "cell_type": "code",
   "execution_count": 89,
   "id": "4891504d-512a-4b0b-a61b-00b1f253b69d",
   "metadata": {},
   "outputs": [],
   "source": [
    "model.save_pretrained(\"my_finetuned_model\", safe_serialization=False)\n"
   ]
  },
  {
   "cell_type": "code",
   "execution_count": 90,
   "id": "1c63e229-02e4-4a53-b10a-bbd6fc6e3af0",
   "metadata": {},
   "outputs": [],
   "source": [
    "fine_tuned_model=XLNetForSequenceClassification.from_pretrained(\"my_finetuned_model\")\n"
   ]
  },
  {
   "cell_type": "code",
   "execution_count": 91,
   "id": "c27f8b70-4e7c-4b06-b432-602eef56fd42",
   "metadata": {},
   "outputs": [
    {
     "name": "stderr",
     "output_type": "stream",
     "text": [
      "Device set to use cpu\n"
     ]
    }
   ],
   "source": [
    "from transformers import pipeline\n",
    "clf=pipeline(task=\"text-classification\",\n",
    "    model=fine_tuned_model,\n",
    "    tokenizer=tokenizer    ) "
   ]
  },
  {
   "cell_type": "code",
   "execution_count": 94,
   "id": "cec01457-cc79-4527-aa93-575742537eff",
   "metadata": {},
   "outputs": [
    {
     "data": {
      "text/plain": [
       "[{'label': 'joy', 'score': 0.4972976744174957},\n",
       " {'label': 'sadness', 'score': 0.27574533224105835},\n",
       " {'label': 'fear', 'score': 0.11984565109014511},\n",
       " {'label': 'anger', 'score': 0.10711130499839783}]"
      ]
     },
     "execution_count": 94,
     "metadata": {},
     "output_type": "execute_result"
    }
   ],
   "source": [
    "clf(\"This is a random test sentence\", top_k=None)\n"
   ]
  },
  {
   "cell_type": "code",
   "execution_count": null,
   "id": "32aea220-97c9-4342-818d-73ec439d38de",
   "metadata": {},
   "outputs": [],
   "source": []
  }
 ],
 "metadata": {
  "kernelspec": {
   "display_name": "llms_course_env",
   "language": "python",
   "name": "llms_course_env"
  },
  "language_info": {
   "codemirror_mode": {
    "name": "ipython",
    "version": 3
   },
   "file_extension": ".py",
   "mimetype": "text/x-python",
   "name": "python",
   "nbconvert_exporter": "python",
   "pygments_lexer": "ipython3",
   "version": "3.11.13"
  }
 },
 "nbformat": 4,
 "nbformat_minor": 5
}
